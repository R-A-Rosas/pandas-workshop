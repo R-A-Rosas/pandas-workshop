{
  "nbformat": 4,
  "nbformat_minor": 0,
  "metadata": {
    "colab": {
      "provenance": [],
      "authorship_tag": "ABX9TyNwaoF71m/5T6CwHfQcdAv6",
      "include_colab_link": true
    },
    "kernelspec": {
      "name": "python3",
      "display_name": "Python 3"
    },
    "language_info": {
      "name": "python"
    }
  },
  "cells": [
    {
      "cell_type": "markdown",
      "metadata": {
        "id": "view-in-github",
        "colab_type": "text"
      },
      "source": [
        "<a href=\"https://colab.research.google.com/github/R-A-Rosas/pandas-workshop/blob/main/BILC_Assignment_2.ipynb\" target=\"_parent\"><img src=\"https://colab.research.google.com/assets/colab-badge.svg\" alt=\"Open In Colab\"/></a>"
      ]
    },
    {
      "cell_type": "code",
      "execution_count": 7,
      "metadata": {
        "id": "bWeFPPmB1Yp9"
      },
      "outputs": [],
      "source": [
        "import pandas as pd\n",
        "\n",
        "df = pd.read_excel(\"/content/iris.xlsx\")"
      ]
    },
    {
      "cell_type": "code",
      "source": [
        "column1 = 'sepal_length'\n",
        "min_value = df[column1].min()\n",
        "max_value = df[column1].max()\n",
        "print(f\"MIN value of {column1}: {min_value}\")\n",
        "print(f\"MAX value of {column1}: {max_value}\")"
      ],
      "metadata": {
        "id": "jyoH9jJt3eCF",
        "colab": {
          "base_uri": "https://localhost:8080/"
        },
        "outputId": "bb1c4cf8-eda1-450e-e170-e38fbd8518f8"
      },
      "execution_count": 12,
      "outputs": [
        {
          "output_type": "stream",
          "name": "stdout",
          "text": [
            "MIN value of sepal_length: 4.3\n",
            "MAX value of sepal_length: 7.9\n"
          ]
        }
      ]
    },
    {
      "cell_type": "code",
      "source": [
        "column2 = 'sepal_width'\n",
        "min_value = df[column2].min()\n",
        "max_value = df[column2].max()\n",
        "print(f\"MIN value of {column2}: {min_value}\")\n",
        "print(f\"MAX value of {column2}: {max_value}\")"
      ],
      "metadata": {
        "colab": {
          "base_uri": "https://localhost:8080/"
        },
        "id": "6w1KWACk-MZA",
        "outputId": "4656a373-8f99-4c93-89b2-7b6b019e85fa"
      },
      "execution_count": 13,
      "outputs": [
        {
          "output_type": "stream",
          "name": "stdout",
          "text": [
            "MIN value of sepal_width: 2.0\n",
            "MAX value of sepal_width: 4.4\n"
          ]
        }
      ]
    },
    {
      "cell_type": "code",
      "source": [
        "column3 = 'petal_length'\n",
        "min_value = df[column3].min()\n",
        "max_value = df[column3].max()\n",
        "print(f\"MIN value of {column3}: {min_value}\")\n",
        "print(f\"MAX value of {column3}: {max_value}\")"
      ],
      "metadata": {
        "colab": {
          "base_uri": "https://localhost:8080/"
        },
        "id": "rGuBzJc-AOyw",
        "outputId": "8063bac2-5c36-4434-a3d1-72b7d4701327"
      },
      "execution_count": 14,
      "outputs": [
        {
          "output_type": "stream",
          "name": "stdout",
          "text": [
            "MIN value of petal_length: 1.0\n",
            "MAX value of petal_length: 6.9\n"
          ]
        }
      ]
    },
    {
      "cell_type": "code",
      "source": [
        "column4 = 'petal_width'\n",
        "min_value = df[column4].min()\n",
        "max_value = df[column4].max()\n",
        "print(f\"MIN value of {column4}: {min_value}\")\n",
        "print(f\"MAX value of {column4}: {max_value}\")"
      ],
      "metadata": {
        "colab": {
          "base_uri": "https://localhost:8080/"
        },
        "id": "Q2QjV1yMAU3I",
        "outputId": "b5db04e7-4f7b-45f2-baa9-eff0f893d3bd"
      },
      "execution_count": 15,
      "outputs": [
        {
          "output_type": "stream",
          "name": "stdout",
          "text": [
            "MIN value of petal_width: 0.1\n",
            "MAX value of petal_width: 2.5\n"
          ]
        }
      ]
    },
    {
      "cell_type": "code",
      "source": [
        "averages = df.mean()\n",
        "print(\"Averages for each column:\")\n",
        "print(averages)"
      ],
      "metadata": {
        "colab": {
          "base_uri": "https://localhost:8080/"
        },
        "id": "cUugi-2VAb4u",
        "outputId": "2c2d2d78-0029-490b-f00f-3ad290fb226c"
      },
      "execution_count": 16,
      "outputs": [
        {
          "output_type": "stream",
          "name": "stdout",
          "text": [
            "Averages for each column:\n",
            "sepal_length    5.843333\n",
            "sepal_width     3.054000\n",
            "petal_length    3.758667\n",
            "petal_width     1.198667\n",
            "dtype: float64\n"
          ]
        },
        {
          "output_type": "stream",
          "name": "stderr",
          "text": [
            "<ipython-input-16-121d857d0138>:1: FutureWarning: The default value of numeric_only in DataFrame.mean is deprecated. In a future version, it will default to False. In addition, specifying 'numeric_only=None' is deprecated. Select only valid columns or specify the value of numeric_only to silence this warning.\n",
            "  averages = df.mean()\n"
          ]
        }
      ]
    },
    {
      "cell_type": "code",
      "source": [
        "column_means = df.mean()\n",
        "column_std = df.std()\n",
        "filtered_df = df[\n",
        "    (df >= (column_means - column_std)) &\n",
        "    (df <= (column_means + column_std))\n",
        "]\n",
        "print(\"Rows within +/- one standard deviation from the mean:\")\n",
        "print(filtered_df)"
      ],
      "metadata": {
        "colab": {
          "base_uri": "https://localhost:8080/"
        },
        "id": "TGZPoY-cAvui",
        "outputId": "d33fc9c3-7924-404d-b8e4-22455127e967"
      },
      "execution_count": 17,
      "outputs": [
        {
          "output_type": "stream",
          "name": "stdout",
          "text": [
            "Rows within +/- one standard deviation from the mean:\n",
            "     sepal_length  sepal_width  petal_length  petal_width class\n",
            "0             5.1          NaN           NaN          NaN   NaN\n",
            "1             NaN          3.0           NaN          NaN   NaN\n",
            "2             NaN          3.2           NaN          NaN   NaN\n",
            "3             NaN          3.1           NaN          NaN   NaN\n",
            "4             NaN          NaN           NaN          NaN   NaN\n",
            "..            ...          ...           ...          ...   ...\n",
            "145           NaN          3.0           5.2          NaN   NaN\n",
            "146           6.3          NaN           5.0          1.9   NaN\n",
            "147           6.5          3.0           5.2          NaN   NaN\n",
            "148           6.2          3.4           5.4          NaN   NaN\n",
            "149           5.9          3.0           5.1          1.8   NaN\n",
            "\n",
            "[150 rows x 5 columns]\n"
          ]
        },
        {
          "output_type": "stream",
          "name": "stderr",
          "text": [
            "<ipython-input-17-92b5465d0853>:1: FutureWarning: The default value of numeric_only in DataFrame.mean is deprecated. In a future version, it will default to False. In addition, specifying 'numeric_only=None' is deprecated. Select only valid columns or specify the value of numeric_only to silence this warning.\n",
            "  column_means = df.mean()\n",
            "<ipython-input-17-92b5465d0853>:2: FutureWarning: The default value of numeric_only in DataFrame.std is deprecated. In a future version, it will default to False. In addition, specifying 'numeric_only=None' is deprecated. Select only valid columns or specify the value of numeric_only to silence this warning.\n",
            "  column_std = df.std()\n",
            "<ipython-input-17-92b5465d0853>:4: FutureWarning: Automatic reindexing on DataFrame vs Series comparisons is deprecated and will raise ValueError in a future version. Do `left, right = left.align(right, axis=1, copy=False)` before e.g. `left == right`\n",
            "  (df >= (column_means - column_std)) &\n",
            "<ipython-input-17-92b5465d0853>:5: FutureWarning: Automatic reindexing on DataFrame vs Series comparisons is deprecated and will raise ValueError in a future version. Do `left, right = left.align(right, axis=1, copy=False)` before e.g. `left == right`\n",
            "  (df <= (column_means + column_std))\n"
          ]
        }
      ]
    }
  ]
}